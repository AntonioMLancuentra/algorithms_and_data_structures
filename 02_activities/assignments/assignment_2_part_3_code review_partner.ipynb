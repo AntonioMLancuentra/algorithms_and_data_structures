{
 "cells": [
  {
   "cell_type": "markdown",
   "metadata": {},
   "source": [
    "\n",
    "## Part 3:\n",
    "\n",
    "Create a Jupyter Notebook, create 6 of the following headings, and complete the following for your partner's assignment 1:\n",
    "\n",
    "-   Paraphrase the problem in your own words.\n"
   ]
  },
  {
   "cell_type": "code",
   "execution_count": null,
   "metadata": {},
   "outputs": [],
   "source": [
    "# When we will get a list of integers, return a list same size with the non-zero values first in the same original order, then the zeros. "
   ]
  },
  {
   "cell_type": "markdown",
   "metadata": {},
   "source": [
    "\n",
    "-   Create 1 new example that demonstrates you understand the problem. Trace/walkthrough 1 example that your partner made and explain it.\n"
   ]
  },
  {
   "cell_type": "code",
   "execution_count": null,
   "metadata": {},
   "outputs": [],
   "source": [
    "# New example\n",
    "# Input: nums = [0, 8, 7, 0, 2, 3]\n",
    "# Output: [8, 7, 2, 3, 0, 0]\n",
    "\n",
    "# Example partner made: nums=[0,1,0,3,12]\n",
    "# size = 5\n",
    "# First non-zero value: 1   -> [1,....]\n",
    "# Next non-zero value: 3    -> [1, 3, ...]\n",
    "# Next non-zero value: 12   -> [1, 3, 12, ...]\n",
    "# Then zeros until arrive to same size: [1, 3, 12, 0, 0]"
   ]
  },
  {
   "cell_type": "markdown",
   "metadata": {},
   "source": [
    "\n",
    "-   Copy the solution your partner wrote. \n"
   ]
  },
  {
   "cell_type": "code",
   "execution_count": 1,
   "metadata": {},
   "outputs": [],
   "source": [
    "from typing import List\n",
    "\n",
    "def move_zeros_to_end(nums: List[int]) -> List[int]:\n",
    "    results=[0] * len(nums)\n",
    "    i=0\n",
    "    for num in nums:\n",
    "        if num!=0:\n",
    "            results[i]=num\n",
    "            i=i+1\n",
    "        else: pass\n",
    "    return results"
   ]
  },
  {
   "cell_type": "code",
   "execution_count": 2,
   "metadata": {},
   "outputs": [
    {
     "data": {
      "text/plain": [
       "[1, 3, 12, 0, 0]"
      ]
     },
     "execution_count": 2,
     "metadata": {},
     "output_type": "execute_result"
    }
   ],
   "source": [
    "nums=[0,1,0,3,12]\n",
    "move_zeros_to_end(nums)"
   ]
  },
  {
   "cell_type": "markdown",
   "metadata": {},
   "source": [
    "\n",
    "-   Explain why their solution works in your own words.\n"
   ]
  },
  {
   "cell_type": "code",
   "execution_count": null,
   "metadata": {},
   "outputs": [],
   "source": [
    "# Initially he creates a zeros list same size as the input. In this case, [0, 0, 0, 0, 0]\n",
    "# Then he initialize a counter\n",
    "# Then he starts scanning the input.\n",
    "# If character is zero, just go to next character.\n",
    "# If character is non-zero value, then he modifies the first value of the list he created above to this value he found, and increases the counter by one.\n",
    "#       Because he increased the counter by one, next character he will save will be in position 1, 2, 3, etc.\n",
    "# When there is no more non-zero values, the remainding positions of the list are already zeros because this is how he created the list.\n",
    "\n",
    "# Typo: as pointed in the review of the PR, there was an indent issue with the else, still not corrected, I ammended here.\n"
   ]
  },
  {
   "cell_type": "markdown",
   "metadata": {},
   "source": [
    "\n",
    "-   Explain the problem’s time and space complexity in your own words.\n"
   ]
  },
  {
   "cell_type": "code",
   "execution_count": null,
   "metadata": {},
   "outputs": [],
   "source": [
    "# Time complexity:  1 loop with 1-2 actions per item in the iterable input  -> O(n)\n",
    "# Space complexity: creation of 1 list same size as the input list          -> O(n)"
   ]
  },
  {
   "cell_type": "markdown",
   "metadata": {},
   "source": [
    "\n",
    "-   Critique your partner's solution, including explanation, and if there is anything that should be adjusted.\n"
   ]
  },
  {
   "cell_type": "code",
   "execution_count": 6,
   "metadata": {},
   "outputs": [
    {
     "data": {
      "text/plain": [
       "array([ 1,  3, 12,  0,  0])"
      ]
     },
     "execution_count": 6,
     "metadata": {},
     "output_type": "execute_result"
    }
   ],
   "source": [
    "# Nothing to critique, works well\n",
    "# It could be implemented with Numpy arrays, same Time and Space complexity, but still, with large numbers is faster\n",
    "\n",
    "import numpy as np\n",
    "\n",
    "def move_zeros_to_end_np(nums):\n",
    "    arr = np.array(nums)\n",
    "    non_zeros = arr[arr != 0]\n",
    "    zeros = np.zeros(len(arr) - len(non_zeros), dtype=arr.dtype)\n",
    "    result = np.concatenate([non_zeros, zeros])\n",
    "    return result\n",
    "\n",
    "nums=[0,1,0,3,12]\n",
    "move_zeros_to_end_np(nums)"
   ]
  }
 ],
 "metadata": {
  "kernelspec": {
   "display_name": "dsi_participant",
   "language": "python",
   "name": "python3"
  },
  "language_info": {
   "codemirror_mode": {
    "name": "ipython",
    "version": 3
   },
   "file_extension": ".py",
   "mimetype": "text/x-python",
   "name": "python",
   "nbconvert_exporter": "python",
   "pygments_lexer": "ipython3",
   "version": "3.9.19"
  }
 },
 "nbformat": 4,
 "nbformat_minor": 4
}
