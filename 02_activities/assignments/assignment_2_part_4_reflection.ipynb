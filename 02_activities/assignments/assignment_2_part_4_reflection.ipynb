{
 "cells": [
  {
   "cell_type": "markdown",
   "metadata": {},
   "source": [
    "\n",
    "## Part 4:\n",
    "\n",
    "Please write a 200 word reflection documenting your process from assignment 1, and your presentation and review experience with your partner at the bottom of the Jupyter Notebook under a new heading \"Reflection.\" Again, export this Notebook as pdf.\n"
   ]
  },
  {
   "cell_type": "markdown",
   "metadata": {},
   "source": [
    "### Reflection"
   ]
  },
  {
   "cell_type": "code",
   "execution_count": null,
   "metadata": {},
   "outputs": [],
   "source": [
    "# In the process of solving assignment 1 I needed some iterations, meaning I received input from LS and I integrated it in the solution. \n",
    "# What I missed was thinking like a tree, tracing all the possible scenarios. It is something I know how to do, I did it in the past,\n",
    "# but for assignment 1 I was not thorough. \n",
    "\n",
    "# My desk setup with three screens and a standing accessory leaves no space for drawing, so I usually use a portable surface instead — though\n",
    "# not as often as I should. Next time, I’ll grab paper and pencil and sketch it out.\n",
    "\n",
    "# Regarding the presentation of the solution with my own words I think it was clear enough, the assignment did not direct for feedback from partner, it would be interesting.\n",
    "\n",
    "# Regarding my review experience, I liked it, it is interesting to look at an existent solution, make the effort to understand it and think about different ways.\n",
    "\n",
    "# Just for my own learning, I coded the Numpy version, I created a huge list of random numbers with a random number of zeros, I ran same list in both codes, in my computer, \n",
    "# my partner version was solved in around 10 seconds, Numpy version was solved in around 5 seconds, both time complexity O(n).\n"
   ]
  },
  {
   "cell_type": "markdown",
   "metadata": {},
   "source": [
    "This notebook has not been exported as PDF, option not allowed by my VSCode. From what I read, I needed to install a heavy several GB size package."
   ]
  }
 ],
 "metadata": {
  "kernelspec": {
   "display_name": "dsi_participant",
   "language": "python",
   "name": "python3"
  },
  "language_info": {
   "codemirror_mode": {
    "name": "ipython",
    "version": 3
   },
   "file_extension": ".py",
   "mimetype": "text/x-python",
   "name": "python",
   "nbconvert_exporter": "python",
   "pygments_lexer": "ipython3",
   "version": "3.9.19"
  }
 },
 "nbformat": 4,
 "nbformat_minor": 4
}
